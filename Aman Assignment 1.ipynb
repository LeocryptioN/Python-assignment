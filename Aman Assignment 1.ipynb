{
 "cells": [
  {
   "cell_type": "markdown",
   "id": "2121a211",
   "metadata": {},
   "source": [
    "# Assignment 1"
   ]
  },
  {
   "cell_type": "markdown",
   "id": "40d61988",
   "metadata": {},
   "source": [
    "## Question 1:\n"
   ]
  },
  {
   "cell_type": "code",
   "execution_count": 1,
   "id": "a5dfefcd",
   "metadata": {},
   "outputs": [
    {
     "name": "stdout",
     "output_type": "stream",
     "text": [
      "Twinkle, twinkle, little star, \n",
      "\t How I wonder what you are! \n",
      "\t\t Up above the world so high,\n",
      "\t\t Like a diamond in the sky \n",
      " Twinkle, twinkle, little star, \n",
      "\t How I wonder what you are! \n"
     ]
    }
   ],
   "source": [
    "print(\"Twinkle, twinkle, little star, \\n\\t How I wonder what you are! \\n\\t\\t Up above the world so high,\\n\\t\\t Like a diamond in the sky \\n Twinkle, twinkle, little star, \\n\\t How I wonder what you are! \")"
   ]
  },
  {
   "cell_type": "markdown",
   "id": "ab281db2",
   "metadata": {},
   "source": [
    "## Question 2:"
   ]
  },
  {
   "cell_type": "code",
   "execution_count": 2,
   "id": "655c6184",
   "metadata": {},
   "outputs": [
    {
     "name": "stdout",
     "output_type": "stream",
     "text": [
      "System Version:\n",
      "3.9.7 (default, Sep 16 2021, 16:58:32) [MSC v.1916 32 bit (Intel)]\n"
     ]
    }
   ],
   "source": [
    "import sys\n",
    "print(\"System Version:\")\n",
    "print(sys.version)"
   ]
  },
  {
   "cell_type": "markdown",
   "id": "8fee9e55",
   "metadata": {},
   "source": [
    "## Question 3:"
   ]
  },
  {
   "cell_type": "code",
   "execution_count": 3,
   "id": "00394d66",
   "metadata": {},
   "outputs": [
    {
     "name": "stdout",
     "output_type": "stream",
     "text": [
      "Date Today:\n",
      "01-01-2022\n",
      "Current Time\n",
      "20 : 03 :30\n"
     ]
    }
   ],
   "source": [
    "import datetime\n",
    "now= datetime.datetime.now()\n",
    "print(\"Date Today:\")\n",
    "print(now.strftime(\"%m-%d-%Y\"))\n",
    "\n",
    "print(\"Current Time\")\n",
    "print(now.strftime(\"%H : %M :%S\"))\n",
    "    \n"
   ]
  },
  {
   "cell_type": "markdown",
   "id": "976f0afd",
   "metadata": {},
   "source": [
    "## Question 4: "
   ]
  },
  {
   "cell_type": "code",
   "execution_count": 5,
   "id": "973e8147",
   "metadata": {},
   "outputs": [
    {
     "name": "stdout",
     "output_type": "stream",
     "text": [
      "Enter the radius2\n",
      "The area of circle with radius 2.0  is  12.56\n"
     ]
    }
   ],
   "source": [
    "r=float(input(\"Enter the radius\"))\n",
    "A=3.14*r*r\n",
    "print(\"The area of circle with radius\", r,\" is \",A)\n"
   ]
  },
  {
   "cell_type": "markdown",
   "id": "32a9bef0",
   "metadata": {},
   "source": [
    "## Question 5:\n"
   ]
  },
  {
   "cell_type": "code",
   "execution_count": 7,
   "id": "1972b404",
   "metadata": {},
   "outputs": [
    {
     "name": "stdout",
     "output_type": "stream",
     "text": [
      "Enter your first name:Aman\n",
      "Enter your last name:namee\n",
      "namee Aman\n"
     ]
    }
   ],
   "source": [
    "firstname=input(\"Enter your first name:\")\n",
    "lastname=input(\"Enter your last name:\")\n",
    "print(lastname + \" \"+ firstname)"
   ]
  },
  {
   "cell_type": "markdown",
   "id": "298ef5b5",
   "metadata": {},
   "source": [
    "## Question 6:\n"
   ]
  },
  {
   "cell_type": "code",
   "execution_count": null,
   "id": "67fbb631",
   "metadata": {},
   "outputs": [],
   "source": [
    "a=int(input(\"Enter a number:\"))\n",
    "b=int(input(\"Enter second number:\"))\n",
    "c=a+b\n",
    "print(c)"
   ]
  },
  {
   "cell_type": "code",
   "execution_count": null,
   "id": "c470eabb",
   "metadata": {},
   "outputs": [],
   "source": []
  }
 ],
 "metadata": {
  "kernelspec": {
   "display_name": "Python 3 (ipykernel)",
   "language": "python",
   "name": "python3"
  },
  "language_info": {
   "codemirror_mode": {
    "name": "ipython",
    "version": 3
   },
   "file_extension": ".py",
   "mimetype": "text/x-python",
   "name": "python",
   "nbconvert_exporter": "python",
   "pygments_lexer": "ipython3",
   "version": "3.9.7"
  }
 },
 "nbformat": 4,
 "nbformat_minor": 5
}
